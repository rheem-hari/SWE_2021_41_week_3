{
  "nbformat": 4,
  "nbformat_minor": 0,
  "metadata": {
    "colab": {
      "provenance": []
    },
    "kernelspec": {
      "name": "python3",
      "display_name": "Python 3"
    },
    "language_info": {
      "name": "python"
    }
  },
  "cells": [
    {
      "cell_type": "markdown",
      "source": [
        "## Task\n",
        "- Complete **isHappy** function following the description below\n",
        "\n",
        "### Happy Number\n",
        "Write an algorithm to determine if a number **n** is happy.\n",
        "\n",
        "A **happy number** is a number defined by the following process:\n",
        "\n",
        "* Starting with any positive integer, replace the number by the sum of the squares of its digits.\n",
        "* Repeat the process until the number equals 1 (where it will stay), or it **loops endlessly in a cycle** which does not include 1.\n",
        "* Those numbers for which this process **ends in 1** are happy.\n",
        "\n",
        "Return **true** if n is a happy number, and **false** if not.\n",
        "\n",
        "Constraints:\n",
        "1 <= n <= $2^{31}$ - 1"
      ],
      "metadata": {
        "id": "TV3Socqg8BVl"
      }
    },
    {
      "cell_type": "code",
      "execution_count": 32,
      "metadata": {
        "id": "5FcxitVf5kdQ",
        "outputId": "a1ff26eb-ca85-42d7-d4ab-890b64686ac9",
        "colab": {
          "base_uri": "https://localhost:8080/"
        }
      },
      "outputs": [
        {
          "output_type": "stream",
          "name": "stdout",
          "text": [
            "Input: 2\n",
            "Output: False\n"
          ]
        }
      ],
      "source": [
        "def isHappy(n):\n",
        "    seen = set()  # 무한 루프 체크를 위한 집합\n",
        "    explanation = []  # 계산 과정을 저장할 리스트\n",
        "    while n != 1:\n",
        "        if n in seen:\n",
        "            return False, explanation\n",
        "        seen.add(n)\n",
        "        n_str = str(n)\n",
        "        n = sum(int(digit) ** 2 for digit in n_str)  # 각 자릿수의 제곱의 합\n",
        "        calculation = ' + '.join([f\"{digit}^2\" for digit in n_str]) + f\" = {n}\"\n",
        "        explanation.append(calculation)\n",
        "    return True, explanation  # 1에 도달하여 Happy Number인 경우 True와 계산 과정 반환\n",
        "\n",
        "# 사용자로부터 입력값 받기\n",
        "input_num = int(input(\"Input: \"))\n",
        "\n",
        "# Happy Number 여부 판별 및 출력\n",
        "result, explanation = isHappy(input_num)\n",
        "print(\"Output:\", result)\n",
        "if result:\n",
        "    print(\"Explanation:\")\n",
        "    for step in explanation:\n",
        "        print(step)\n"
      ]
    },
    {
      "cell_type": "markdown",
      "source": [
        "**Testcase 1.**\n",
        "\n",
        "**Input**: 19\n",
        "\n",
        "**Output**: True\n",
        "\n",
        "**Explanation**:\n",
        "\n",
        "$1^2 + 9^2 = 82$\n",
        "\n",
        "$8^2 + 2^2 = 68$\n",
        "\n",
        "$6^2 + 8^2 = 100$\n",
        "\n",
        "$1^2 + 0^2 + 0^2 = 1$"
      ],
      "metadata": {
        "id": "eRrh24Ognrqf"
      }
    },
    {
      "cell_type": "markdown",
      "source": [
        "**Testcase 2.**\n",
        "\n",
        "**Input**: 2\n",
        "\n",
        "**Output**: False"
      ],
      "metadata": {
        "id": "dE7YMY8qoPoj"
      }
    }
  ]
}